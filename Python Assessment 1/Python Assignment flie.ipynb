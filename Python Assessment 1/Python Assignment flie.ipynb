{
 "cells": [
  {
   "cell_type": "code",
   "execution_count": 1,
   "id": "f23a1599",
   "metadata": {},
   "outputs": [
    {
     "name": "stdout",
     "output_type": "stream",
     "text": [
      "Enter your weight in Kilograms x: 100\n",
      "Your weight in Pounds is 220.46\n"
     ]
    }
   ],
   "source": [
    "##Exercise 3.8:Question 11'write a program that ask the user for a weight in kilograms. The program should convert it to pounds,\n",
    "## printing the answer rounded to the nearest tenth of a pound.'\n",
    "\n",
    "x = float(input(\"Enter your weight in Kilograms x: \")) \n",
    "pounds = round(x * 2.2046, 2)\n",
    "print(\"Your weight in Pounds\",\"is\",pounds)\n"
   ]
  },
  {
   "cell_type": "code",
   "execution_count": 2,
   "id": "844dc33b",
   "metadata": {},
   "outputs": [
    {
     "name": "stdout",
     "output_type": "stream",
     "text": [
      "Enter a number: 5\n",
      "The factorial of 5 is 120\n"
     ]
    }
   ],
   "source": [
    "\n",
    "##Exercise 3.8:Question 12'write a program that ask the user for a number and prints out the factorial of that number.'\n",
    "\n",
    "num = int(input(\"Enter a number: \"))\n",
    "\n",
    "factorial = 1\n",
    "\n",
    "# check if the number is negative, positive or zero\n",
    "if num < 0:\n",
    "   print(\"Sorry, factorial does not exist for negative numbers\")\n",
    "elif num == 0:\n",
    "   print(\"The factorial of 0 is 1\")\n",
    "else:\n",
    "   for i in range(1,num + 1):\n",
    "       factorial = factorial*i\n",
    "   print(\"The factorial of\",num,\"is\",factorial)"
   ]
  },
  {
   "cell_type": "code",
   "execution_count": 3,
   "id": "df4f79bc",
   "metadata": {},
   "outputs": [
    {
     "name": "stdout",
     "output_type": "stream",
     "text": [
      "Enter the number x: 2\n",
      "Enter the number y: 2\n",
      "Enter the number z: 2\n",
      "The sine of x =  0.91\n",
      "The cosine of y =  -0.42\n",
      "The tanget of z =  -2.19\n"
     ]
    }
   ],
   "source": [
    "\n",
    "##Exercise 3.8:Question 13'write a program that ask the user for a number and prints out the sine, cosine and tanget \n",
    "##of that number.' \n",
    "\n",
    "#A demo of cos() function\n",
    " \n",
    "#from math import cos\n",
    "#x = int(input(\"Enter the number x: \")) \n",
    "#cos_x = round(cos(x),2)\n",
    "#print (\"The cosine of x = \",  cos_x)\n",
    "\n",
    "#A demo of sin() function\n",
    "#from math import sin\n",
    "#x = int(input(\"Enter the number x: \")) \n",
    "#sin_x = round(sin(x),2)\n",
    "#print (\"The sine of x = \",  sin_x)\n",
    "\n",
    "#A demo of tan() function\n",
    "from math import tan\n",
    "#x = int(input(\"Enter the number x: \")) \n",
    "#tan_x = round(tan(x),2)\n",
    "#print (\"The tanget of x = \",  tan_x)\n",
    "\n",
    "#Combination of all programs into one\n",
    "from math import sin\n",
    "from math import cos\n",
    "from math import tan\n",
    "x = int(input(\"Enter the number x: \")) \n",
    "y = int(input(\"Enter the number y: \"))\n",
    "z = int(input(\"Enter the number z: \"))\n",
    "\n",
    "sin_x = round(sin(x),2)\n",
    "cos_y = round(cos(y),2)\n",
    "tan_z = round(tan(z),2)\n",
    "\n",
    "print (\"The sine of x = \",  sin_x)\n",
    "print (\"The cosine of y = \",  cos_y)\n",
    "print (\"The tanget of z = \",  tan_z)\n"
   ]
  },
  {
   "cell_type": "code",
   "execution_count": 4,
   "id": "de546769",
   "metadata": {},
   "outputs": [
    {
     "name": "stdout",
     "output_type": "stream",
     "text": [
      "Enter an angle in degrees: 90\n",
      "The sine of x =  1.0\n"
     ]
    }
   ],
   "source": [
    "#Exercise 3.8:Quest 14'write a program that ask the user to enter an angle in degrees and prints out the sine of that number.' \n",
    "\n",
    "import math\n",
    "\n",
    "x = int(input(\"Enter an angle in degrees: \")) \n",
    "sine_x = math.sin(math.radians(x))\n",
    "sine_x = round(sine_x,2) \n",
    "print (\"The sine of x = \",sine_x )\n"
   ]
  },
  {
   "cell_type": "code",
   "execution_count": 5,
   "id": "f8309032",
   "metadata": {},
   "outputs": [
    {
     "name": "stdout",
     "output_type": "stream",
     "text": [
      "Enter a lenght in centimeter: 20\n",
      "Lenght in inches =  7.874015748031496\n"
     ]
    }
   ],
   "source": [
    "##Exercise 4.5 Question 1\n",
    "\n",
    "length = float(input(\"Enter a lenght in centimeter: \"))\n",
    "if(length < 0):\n",
    "    print( \"Entry is invalid\")\n",
    "elif length / 2.54:\n",
    "    l = length / 2.54\n",
    "    print (\"Lenght in inches = \", l)\n"
   ]
  },
  {
   "cell_type": "code",
   "execution_count": 6,
   "id": "cbce81d1",
   "metadata": {},
   "outputs": [
    {
     "name": "stdout",
     "output_type": "stream",
     "text": [
      "Enter temperature: 30\n",
      "Which units you enter fahrenheit or celsius: \n",
      "Enter 0 for celsius: \n",
      "Enter 1 for fahrenheit: \n",
      "0\n",
      "Temperature:  30.0  in celsius:  12.222222222222221\n"
     ]
    }
   ],
   "source": [
    "##Exercise 4.5 Question 2\n",
    "\n",
    "temperature= float(input(\"Enter temperature: \"))\n",
    "print (\"Which units you enter fahrenheit or celsius: \")\n",
    "print (\"Enter 0 for celsius: \")\n",
    "print (\"Enter 1 for fahrenheit: \")\n",
    "\n",
    "num = int(input())\n",
    "\n",
    "if num == 0:\n",
    "    celsius = (temperature - 32 / 1.8)\n",
    "    print (\"Temperature: \", temperature, \" in celsius: \", celsius)\n",
    "\n",
    "elif num == 1:\n",
    "    fahrenheit = (temperature * 1.8) +32\n",
    "    print (\"Temperature: \", temperature, \"in fahrenheit: \", fahrenheit)\n"
   ]
  },
  {
   "cell_type": "code",
   "execution_count": 7,
   "id": "b1fcc21d",
   "metadata": {},
   "outputs": [
    {
     "name": "stdout",
     "output_type": "stream",
     "text": [
      "Enter temperature in celsius: 50\n",
      "Temperature is at the normal range\n"
     ]
    }
   ],
   "source": [
    "##Exercise 4.5 Question 3\n",
    "\n",
    "temp = float(input (\"Enter temperature in celsius: \"))\n",
    "\n",
    "if  temp< -273.15:\n",
    "    print (\"Temperature is invalid\")\n",
    "\n",
    "elif temp == -273.15:\n",
    "    print (\"Temperature is absolute 0\")\n",
    "\n",
    "elif temp > -273.15 and temp < 0:\n",
    "    print (\"Temperature is below freezing\")\n",
    "\n",
    "elif temp == 0:\n",
    "    print (\"Temperature is at the freezing point\")\n",
    "\n",
    "elif temp > 0 and temp < 100:\n",
    "    print (\"Temperature is at the normal range\")\n",
    "\n",
    "elif temp == 100:\n",
    "    print (\"Temperature is at the boiling point\")\n",
    "\n",
    "else:\n",
    "    print(\"Temperature is above the boiling point\")\n"
   ]
  },
  {
   "cell_type": "code",
   "execution_count": 8,
   "id": "fb73aefb",
   "metadata": {},
   "outputs": [
    {
     "name": "stdout",
     "output_type": "stream",
     "text": [
      "Enter number of credits taken: 60\n",
      "Student is a junior\n"
     ]
    }
   ],
   "source": [
    "\n",
    "##Exercise 4.5 Question 4\n",
    "\n",
    "credit = int(input (\"Enter number of credits taken: \"))\n",
    "\n",
    "if credit <= 23:\n",
    "    print (\"Student is a freshman\")\n",
    "\n",
    "elif credit > 24 and credit < 53:\n",
    "    print (\"Student is a sophmore\")\n",
    "\n",
    "elif credit > 54 and credit < 83:\n",
    "    print (\"Student is a junior\")\n",
    "\n",
    "elif credit >= 83:\n",
    "    print (\"Student is a senior\")\n",
    "\n"
   ]
  },
  {
   "cell_type": "code",
   "execution_count": 9,
   "id": "f2b699f6",
   "metadata": {},
   "outputs": [
    {
     "name": "stdout",
     "output_type": "stream",
     "text": [
      "Enter a number: 5\n",
      "The sum of divisors of 5 is 6\n"
     ]
    }
   ],
   "source": [
    "##Exercise 4.5 Question 5\n",
    "\n",
    "num = int(input(\"Enter a number: \"))\n",
    "divisors_sum = 0\n",
    "\n",
    "# Loop through numbers from 1 to num (inclusive)\n",
    "for i in range(1, num+1):\n",
    "    # if i divides numbers num evenly, add it to the sum of divisors\n",
    "    if num % i == 0:\n",
    "        divisors_sum += i\n",
    "print(\"The sum of divisors of\" , num, \"is\" , divisors_sum)\n"
   ]
  },
  {
   "cell_type": "code",
   "execution_count": 11,
   "id": "23322886",
   "metadata": {},
   "outputs": [
    {
     "name": "stdout",
     "output_type": "stream",
     "text": [
      "[6, 28, 496, 8128]\n"
     ]
    }
   ],
   "source": [
    "###Exercise 4.5 Question 6\n",
    "\n",
    "def is_perfect(num):\n",
    "    sum_divisors = 0\n",
    "    for i in range(1, num):\n",
    "        if num % i == 0:\n",
    "            sum_divisors += i\n",
    "    return sum_divisors == num\n",
    "\n",
    "perfect_numbers = []\n",
    "for num in range(1, 10000):\n",
    "    if is_perfect(num):\n",
    "        perfect_numbers.append(num)\n",
    "print(perfect_numbers)\n",
    "\n"
   ]
  },
  {
   "cell_type": "code",
   "execution_count": 12,
   "id": "5f8c16b0",
   "metadata": {},
   "outputs": [
    {
     "name": "stdout",
     "output_type": "stream",
     "text": [
      "Enter an integer: 5\n",
      "5 is squarefree\n"
     ]
    }
   ],
   "source": [
    "##Exercise 4.5 Question 7\n",
    "\n",
    "def is_squarefree(num):\n",
    "    for i in range(2, int(num ** 0.5) + 1):\n",
    "        if num % (i ** 2) == 0:\n",
    "            return False\n",
    "    return True\n",
    "\n",
    "num = int(input(\"Enter an integer: \"))\n",
    "if is_squarefree(num):\n",
    "    print(num, \"is squarefree\")\n",
    "else:\n",
    "    print(num, \"is not squarefree\")\n"
   ]
  },
  {
   "cell_type": "code",
   "execution_count": 13,
   "id": "dfdff5ec",
   "metadata": {},
   "outputs": [
    {
     "name": "stdout",
     "output_type": "stream",
     "text": [
      "Enter the value of x: 6\n",
      "Enter the value of y: 3\n",
      "Enter the value of z: 9\n",
      "Before swapping: x =  6 , y =  3 , z = 9\n",
      "After swapping: x =  3 , y =  9 , z = 6\n"
     ]
    }
   ],
   "source": [
    "\n",
    "# ##Exercise 4.5 Question 8 'write a program that swaps the values of three variables x, y, and z, \n",
    "# so that x gets the value of y, y gets the value of z, and z gets the value of x.'\n",
    "\n",
    "x = int(input(\"Enter the value of x: \"))\n",
    "y = int(input(\"Enter the value of y: \"))\n",
    "z = int(input(\"Enter the value of z: \"))\n",
    "\n",
    "print(\"Before swapping: x = \", x, \", y = \", y, \", z =\", z)\n",
    "\n",
    "temp = x\n",
    "x = y\n",
    "y = z \n",
    "z = temp\n",
    "\n",
    "print(\"After swapping: x = \", x, \", y = \", y, \", z =\", z)\n",
    "\n"
   ]
  },
  {
   "cell_type": "code",
   "execution_count": 14,
   "id": "aff9f7d1",
   "metadata": {},
   "outputs": [
    {
     "name": "stdout",
     "output_type": "stream",
     "text": [
      "964\n"
     ]
    }
   ],
   "source": [
    "##Exercise 4.5 Question 9\n",
    "\n",
    "def count_integers():\n",
    "    count = 0\n",
    "    for i in range(1, 1001):\n",
    "        if i**(1/2) != int(i**(1/2)) and i**(1/3) != int(i**(1/3)) and i**(1/5) != int(i**(1/5)):\n",
    "            count += 1\n",
    "    return count\n",
    "print(count_integers())\n"
   ]
  },
  {
   "cell_type": "code",
   "execution_count": 15,
   "id": "725a762d",
   "metadata": {},
   "outputs": [
    {
     "name": "stdout",
     "output_type": "stream",
     "text": [
      "Enter score 1: 5\n",
      "Enter score 2: 8\n",
      "Enter score 3: 10\n",
      "Enter score 4: 15\n",
      "Enter score 5: 20\n",
      "Enter score 6: 2\n",
      "Enter score 7: 8\n",
      "Enter score 8: 9\n",
      "Enter score 9: 9\n",
      "Enter score 10: 0\n",
      "Highest score : 20\n",
      "Lowest score : 0\n",
      "Average score: 8.6\n",
      "Second highest score:  15\n",
      "Average score (after dropping two lowest):  10.5\n"
     ]
    }
   ],
   "source": [
    "###Exercise 4.5 Question 10 'Ask the user to enter 10 test scores. write a program to do the following:'\n",
    "\n",
    "##Define a list to hold the test scores\n",
    "scores = []\n",
    "\n",
    "##Ask the user to enter 10 scores\n",
    "for i in range (10):\n",
    "    score = int(input(f\"Enter score {i+1}: \"))\n",
    "    \n",
    "# Check if the score is greater than 100\n",
    "    if score > 100:\n",
    "        print(\"Warning: Score is greater than 100\")\n",
    "    \n",
    "    scores.append(score)\n",
    "\n",
    "#Sort the score ia ascending order\n",
    "scores.sort()\n",
    "\n",
    "## (a) Print out the highest and lowest scores\n",
    "print(\"Highest score :\" , scores [-1])\n",
    "print(\"Lowest score :\" , scores [0])\n",
    "\n",
    "##(b) Calculate and print out the average of the scores\n",
    "average = sum(scores) / len(scores)\n",
    "print(\"Average score:\", average)\n",
    "\n",
    "##(c) Print out the second highest score\n",
    "print(\"Second highest score: \", scores [-2])\n",
    "\n",
    "##(d)\n",
    "\n",
    "##(e) Drop the two lowest scores and print out the average of the rest\n",
    "dropped_scores = scores [2:]\n",
    "dropped_average = sum(dropped_scores) / len(dropped_scores)\n",
    "print (\"Average score (after dropping two lowest): \", dropped_average)\n"
   ]
  },
  {
   "cell_type": "markdown",
   "id": "1bdba0f8",
   "metadata": {},
   "source": []
  }
 ],
 "metadata": {
  "kernelspec": {
   "display_name": "Python 3 (ipykernel)",
   "language": "python",
   "name": "python3"
  },
  "language_info": {
   "codemirror_mode": {
    "name": "ipython",
    "version": 3
   },
   "file_extension": ".py",
   "mimetype": "text/x-python",
   "name": "python",
   "nbconvert_exporter": "python",
   "pygments_lexer": "ipython3",
   "version": "3.9.13"
  }
 },
 "nbformat": 4,
 "nbformat_minor": 5
}
